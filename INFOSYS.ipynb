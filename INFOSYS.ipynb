{
  "nbformat": 4,
  "nbformat_minor": 0,
  "metadata": {
    "colab": {
      "name": "INFOSYS.ipynb",
      "provenance": [],
      "collapsed_sections": [],
      "authorship_tag": "ABX9TyP/LUYceP50uf61/ZNs2Z+z",
      "include_colab_link": true
    },
    "kernelspec": {
      "name": "python3",
      "display_name": "Python 3"
    }
  },
  "cells": [
    {
      "cell_type": "markdown",
      "metadata": {
        "id": "view-in-github",
        "colab_type": "text"
      },
      "source": [
        "<a href=\"https://colab.research.google.com/github/Anis2205/INFYTQ/blob/master/INFOSYS.ipynb\" target=\"_parent\"><img src=\"https://colab.research.google.com/assets/colab-badge.svg\" alt=\"Open In Colab\"/></a>"
      ]
    },
    {
      "cell_type": "markdown",
      "metadata": {
        "id": "Ff7-4LGZMWxy",
        "colab_type": "text"
      },
      "source": [
        "**Day1 InfyTQ Assignments**"
      ]
    },
    {
      "cell_type": "code",
      "metadata": {
        "id": "JLfPhTWTtlod",
        "colab_type": "code",
        "colab": {}
      },
      "source": [
        "current_year=int(input())\n",
        "next_15_leap_year=[]\n",
        "count=0\n",
        "while (count<15):\n",
        "  if(current_year % 4 ) == 0:\n",
        "      if(current_year % 100 ) == 0:\n",
        "          if(current_year % 400 ) == 0:\n",
        "              next_15_leap_year.append(current_year )\n",
        "              count+=1\n",
        "      else:\n",
        "          next_15_leap_year.append(current_year )\n",
        "          count+=1\n",
        "  current_year+=1\n",
        " \n",
        "print( next_15_leap_year)"
      ],
      "execution_count": null,
      "outputs": []
    },
    {
      "cell_type": "markdown",
      "metadata": {
        "id": "ZMnhjDRgieSo",
        "colab_type": "text"
      },
      "source": [
        "**Day2 InfyTQ Assignments**\n"
      ]
    },
    {
      "cell_type": "code",
      "metadata": {
        "id": "nHrB--AVMWi_",
        "colab_type": "code",
        "colab": {}
      },
      "source": [
        ""
      ],
      "execution_count": null,
      "outputs": []
    },
    {
      "cell_type": "markdown",
      "metadata": {
        "id": "l1xW1EN6fLOC",
        "colab_type": "text"
      },
      "source": [
        "**ASSIGNMENT-Q9**.A vegetarian combo costs Rs.120 per plate and a non-vegetarian combo costs Rs.150 per plate. Their non-veg combo is really famous that they get more orders for their non-vegetarian combo than the vegetarian combo.\n",
        "\n",
        "Apart from the cost per plate of food, customers are also charged for home delivery based on the distance in kms from the restaurant to the delivery point. The delivery charges are as mentioned below:\n",
        "\n",
        "Distance in kms\tDelivery charge in Rs per km\n",
        "For first 3kms\t0\n",
        "For next 3kms\t3\n",
        "For the remaining\t6\n",
        "# Given the type of food, quantity (no. of plates) and the distance in kms from the restaurant to the delivery point, write a python program to calculate the final bill amount to be paid by a customer.\n",
        "\n",
        "The below information must be used to check the validity of the data provided by the customer: \n",
        "\n",
        "Type of food must be ‘V’ for vegetarian and ‘N’ for non-vegetarian.\n",
        "Distance in kms must be greater than 0.\n",
        "Quantity ordered should be minimum 1.\n",
        "If any of the input is invalid, the bill amount should be considered as -1."
      ]
    },
    {
      "cell_type": "code",
      "metadata": {
        "id": "a4x8UINKY6g9",
        "colab_type": "code",
        "colab": {
          "base_uri": "https://localhost:8080/",
          "height": 34
        },
        "outputId": "d2ea67ce-29a4-4085-9a2c-e956b4a78940"
      },
      "source": [
        "def calculate_bill_amount(food_type,quantity_ordered,distance_in_kms):\n",
        "    bill_amount=0\n",
        "    if(distance_in_kms>0):\n",
        "      if(quantity_ordered>=1):\n",
        "         if(food_type==\"N\"):\n",
        "               if(distance_in_kms<=3):\n",
        "                  bill_amount=150*quantity_ordered\n",
        "               elif((distance_in_kms>3)and(distance_in_kms<=6)):\n",
        "                  bill_amount=(150*quantity_ordered)+((distance_in_kms-3)*3)\n",
        "               else:\n",
        "                   bill_amount=((150*quantity_ordered)+(3*3)+((distance_in_kms-6)*6))\n",
        "         elif(food_type==\"V\"):\n",
        "                 if(distance_in_kms<=3):\n",
        "                      bill_amount=120*quantity_ordered\n",
        "                 elif((distance_in_kms>3)and(distance_in_kms<=6)):\n",
        "                    bill_amount=((120*quantity_ordered)+(distance_in_kms-3)*3)\n",
        "                 else:\n",
        "                    bill_amount=((120*quantity_ordered)+(3*3)+(distance_in_kms-6)*6)\n",
        "         else:\n",
        "               return -1\n",
        "      else:\n",
        "         return -1\n",
        "    else:\n",
        "       return -1\n",
        "    return bill_amount\n",
        "\n",
        "#Provide different values for food_type,quantity_ordered,distance_in_kms and test your program\n",
        "bill_amount=calculate_bill_amount(\"N\",2,8)\n",
        "print(bill_amount)"
      ],
      "execution_count": null,
      "outputs": [
        {
          "output_type": "stream",
          "text": [
            "321\n"
          ],
          "name": "stdout"
        }
      ]
    },
    {
      "cell_type": "markdown",
      "metadata": {
        "id": "g7naRKLR2q2I",
        "colab_type": "text"
      },
      "source": [
        "\n",
        "\n",
        "**Assignment 26**: Mandatory (puzzle) - Level 2\n",
        "\n",
        "Write a python program to solve a classic ancient Chinese puzzle.\n",
        "\n",
        "We count 35 heads and 94 legs among the chickens and rabbits in a farm. How many rabbits and how many chickens do we have?\n",
        "\n",
        "\n",
        "Sample Input\tExpected Output\n",
        "heads-150 legs-400\t100 50\n",
        "heads-3 legs-11\tNo solution\n",
        "heads-3 legs-12\t0 3\n",
        "heads-5 legs-10\t5 0\n",
        "\n"
      ]
    },
    {
      "cell_type": "code",
      "metadata": {
        "id": "0ktEIarjy7IJ",
        "colab_type": "code",
        "colab": {
          "base_uri": "https://localhost:8080/",
          "height": 34
        },
        "outputId": "b92974ff-71aa-4dfd-e749-17c970445b90"
      },
      "source": [
        "#PF-Assgn-26\n",
        "def solve(heads,legs):\n",
        "    error_msg=\"No solution\"\n",
        "    chicken_count=0\n",
        "    rabbit_count=0\n",
        "    ans=False  \n",
        "    #Populate the variables: chicken_count and rabbit_count\n",
        "    for i in range(heads+1):\n",
        "        j=heads-i\n",
        "        if (2*i)+(4*j)==legs:\n",
        "            chicken_count=i\n",
        "            rabbit_count=j\n",
        "            ans=True\n",
        "            break\n",
        "    if (ans==True):\n",
        "        print(chicken_count,rabbit_count)\n",
        "    else:\n",
        "        print(error_msg)\n",
        "    # Use the below given print statements to display the output\n",
        "    # Also, do not modify them for verification to work\n",
        "\n",
        "    #print(chicken_count,rabbit_count)\n",
        "    #print(error_msg)\n",
        "\n",
        "#Provide different values for heads and legs and test your program\n",
        "solve(3,12)"
      ],
      "execution_count": null,
      "outputs": [
        {
          "output_type": "stream",
          "text": [
            "(3, 0)\n"
          ],
          "name": "stdout"
        }
      ]
    },
    {
      "cell_type": "code",
      "metadata": {
        "id": "gRCYUD302p3F",
        "colab_type": "code",
        "colab": {}
      },
      "source": [
        "\n"
      ],
      "execution_count": null,
      "outputs": []
    },
    {
      "cell_type": "markdown",
      "metadata": {
        "id": "0rUQq5W2G0_A",
        "colab_type": "text"
      },
      "source": [
        "**ASSIGNMENT-32**"
      ]
    },
    {
      "cell_type": "markdown",
      "metadata": {
        "id": "be_IVJZbGhL2",
        "colab_type": "text"
      },
      "source": [
        "Care hospital wants to know the medical speciality visited by the maximum number of patients. Assume that the patient id of the patient along with the medical speciality visited by the patient is stored in a list. The details of the medical specialities are stored in a dictionary as follows:\n",
        "{\n",
        "\"P\":\"Pediatrics\",\n",
        "\"O\":\"Orthopedics\",\n",
        "\"E\":\"ENT\n",
        "}\n",
        "\n",
        "Write a function to find the medical speciality visited by the maximum number of patients and return the name of the speciality.\n",
        "Also write the pytest test cases to test the program.\n",
        "\n",
        "Note:\n",
        "Assume that there is always only one medical speciality which is visited by maximum number of patients.\n",
        "Perform case sensitive string comparison wherever necessary.\n",
        "\n",
        "Sample Input\tExpected Output\n",
        "[101,P,102,O,302,P,305,P]\tPediatrics\n",
        "[101,O,102,O,302,P,305,E,401,O,656,O]\tOrthopedics\n",
        "[101,O,102,E,302,P,305,P,401,E,656,O,987,E]\tENT\n"
      ]
    },
    {
      "cell_type": "code",
      "metadata": {
        "id": "fb_MlU38HAQq",
        "colab_type": "code",
        "colab": {}
      },
      "source": [
        "\n",
        "def max_visited_speciality(patient_medical_speciality_list,medical_speciality):\n",
        "    p_count=0\n",
        "    O_count=0\n",
        "    E_count=0\n",
        "    for i in range(1,len(patient_medical_speciality_list),2):\n",
        "        if (patient_medical_speciality_list[i] == \"P\"):\n",
        "            p_count+=1\n",
        "        elif (patient_medical_speciality_list[i] == \"O\"):\n",
        "            O_count+=1\n",
        "        else:\n",
        "            E_count+=1\n",
        "    \n",
        "            \n",
        "    if(p_count > O_count):\n",
        "        if(p_count > E_count):\n",
        "            speciality= medical_speciality[\"P\"]\n",
        "    elif(O_count > E_count):\n",
        "        if (O_count > P_count):\n",
        "           speciality= medical_speciality[\"O\"]\n",
        "    else:\n",
        "        speciality= medical_speciality[\"E\"]\n",
        "     \n",
        "        \n",
        "        \n",
        "        \n",
        "\n",
        "    return speciality\n",
        "\n",
        "#provide different values in the list and test your program\n",
        "patient_medical_speciality_list=[301,'P',302, 'P' ,305, 'P' ,401, 'E' ,656, 'E']\n",
        "medical_speciality={\"P\":\"Pediatrics\",\"O\":\"Orthopedics\",\"E\":\"ENT\"}\n",
        "speciality=max_visited_speciality(patient_medical_speciality_list,medical_speciality)\n",
        "print(speciality)"
      ],
      "execution_count": null,
      "outputs": []
    },
    {
      "cell_type": "markdown",
      "metadata": {
        "id": "H52cNbasHkkW",
        "colab_type": "text"
      },
      "source": [
        "**PYTEST TESTCASES**"
      ]
    },
    {
      "cell_type": "code",
      "metadata": {
        "id": "opdVyfdkHkFK",
        "colab_type": "code",
        "colab": {}
      },
      "source": [
        "def test_p_visited_speciality():\n",
        "     medical_speciality={\"P\":\"Pediatrics\",\"O\":\"Orthopedics\",\"E\":\"ENT\"}\n",
        "     values=[301,'P',302, 'P' ,305, 'P' ,401, 'E' ,656, 'E']\n",
        "\n",
        "     val=max_visited_speciality(values,medical_speciality)\n",
        "     assert val == \"Pediatrics\"\n",
        "\n",
        "def test_o_visited_speciality():\n",
        "    medical_speciality={\"P\":\"Pediatrics\",\"O\":\"Orthopedics\",\"E\":\"ENT\"}\n",
        "    values=[301,'E',302, 'O' ,305, 'O' ,401, 'E' ,656, 'O']\n",
        "\n",
        "    val=max_visited_speciality(values,medical_speciality)\n",
        "    assert val == \"Orthopedics\"\n",
        "def test_e_visited_speciality():\n",
        "    medical_speciality={\"P\":\"Pediatrics\",\"O\":\"Orthopedics\",\"E\":\"ENT\"}\n",
        "    values=[301,'E',302, 'E' ,305, 'E' ,401, 'E' ,656, 'O']\n",
        "\n",
        "    val=max_visited_speciality(values,medical_speciality)\n",
        "    assert val == \"ENT\"\n"
      ],
      "execution_count": null,
      "outputs": []
    },
    {
      "cell_type": "markdown",
      "metadata": {
        "id": "6typlVCUQt2C",
        "colab_type": "text"
      },
      "source": [
        "**Day3 InfyTQ Assignments**\n"
      ]
    },
    {
      "cell_type": "markdown",
      "metadata": {
        "id": "7gf6qKn2RRUs",
        "colab_type": "text"
      },
      "source": [
        "ASSIGNMENT-Q9-DAY1\n",
        "Continuing with the previous scenario, a student eligible for admission has to choose a course and pay the fees for it. If they have scored more than 85 marks in qualifying exam, they get 25% discount on fees.\n",
        "\n",
        "\n",
        "Valid course ids and fees are given below:\n",
        "\n",
        "course id\tfees\n",
        "1001\t25575.0\n",
        "1002\t15500.0\n",
        "Extend the program written in the previous assignment to include the above requirement."
      ]
    },
    {
      "cell_type": "code",
      "metadata": {
        "id": "EWSw2ZI4Qbcx",
        "colab_type": "code",
        "colab": {
          "base_uri": "https://localhost:8080/",
          "height": 51
        },
        "outputId": "ee018678-8362-4eed-a03c-43a4a0c3e75d"
      },
      "source": [
        "class Student:\n",
        "    def __init__(self):\n",
        "        self.__student_id=None\n",
        "        self.__marks=None\n",
        "        self.__age=None\n",
        "        self.__course_id=None\n",
        "        self.__fees=None\n",
        "    def validate_marks(self):\n",
        "        if (self.__marks>=0 and self.__marks<=100):\n",
        "            return True\n",
        "        else:\n",
        "            return False\n",
        "    def validate_age(self):\n",
        "        if(self.__age>20):\n",
        "            return True\n",
        "        else:\n",
        "            return False\n",
        "    def check_qualification(self):\n",
        "        if(self.validate_age() and self.validate_marks()):\n",
        "            if(self.__marks >= 65):\n",
        "                return True\n",
        "            else:\n",
        "                return False\n",
        "        else:\n",
        "            return False\n",
        "    def choose_course(self,course_id):\n",
        "        self.__course_id=course_id\n",
        "        if(self.__course_id==1001 ):\n",
        "          if(self.__marks>85):\n",
        "            self.__fees=((25575.0 -(25575.0 *(25/100))))\n",
        "            return True\n",
        "            \n",
        "          else:\n",
        "            self.__fees=25575.0\n",
        "            return True\n",
        "        elif(self.__course_id==1002 ):\n",
        "          if(self.__marks>85):\n",
        "            self.__fees=((15500.0-(15500.0 *(25/100))))\n",
        "            return True\n",
        "          else:\n",
        "            self.__fees=15500.0\n",
        "            return True\n",
        "        else:\n",
        "            return False\n",
        "    def set_student_id(self, student_id):\n",
        "        self.__student_id=student_id\n",
        "    def get_student_id(self):\n",
        "        return self.__student_id\n",
        "    def set_marks(self, marks):\n",
        "        self.__marks=marks\n",
        "    def get_marks(self):\n",
        "        return self.__marks\n",
        "    def set_age(self, age):\n",
        "        self.__age=age\n",
        "    def get_age(self):\n",
        "        return self.__age\n",
        "    def set_course_id(self,course_id):\n",
        "        self.__course_id=course_id\n",
        "    def get_course_id(self):\n",
        "        return self.__course_id\n",
        "    def get_fees(self):\n",
        "        return self.__fees\n",
        "\n",
        "maddy=Student()\n",
        "maddy.set_student_id(1002)\n",
        "maddy.set_age(21)\n",
        "maddy.set_marks(100)\n",
        "if(maddy.check_qualification()):\n",
        "    print(\"Student has qualified\")\n",
        "    if(maddy.choose_course(1003)):\n",
        "        print(\"Course allocated\")\n",
        "    else:\n",
        "        print(\"Invalid course id\")\n",
        "else:\n",
        "    print(\"Student has not qualified\")\n",
        "\n",
        "    \n",
        "        "
      ],
      "execution_count": null,
      "outputs": [
        {
          "output_type": "stream",
          "text": [
            "Student has qualified\n",
            "Invalid course id\n"
          ],
          "name": "stdout"
        }
      ]
    },
    {
      "cell_type": "markdown",
      "metadata": {
        "id": "jqoGOUW4RxZy",
        "colab_type": "text"
      },
      "source": [
        "ASSIGNMENT-10-DAY2\n",
        "A telecom company wants to generate reports on the call details of the customers.20 min\n",
        "The data of each call detail include the phone number which made the call, phone number which was called, duration of the call and the type of call. Data of such calls are provided as a list of comma separated string.\n",
        "\n",
        "Problem Statement:\n",
        "\n",
        "Complete the CallDetail class with necessary attributes\n",
        "Complete the logic inside the parse_customer() method of the Util Class. This method should accept a list of string of the call details and convert it into a list of CallDetail object and assign this list as a value to the attribute of the Util class."
      ]
    },
    {
      "cell_type": "code",
      "metadata": {
        "id": "2Eq8KilLKuHi",
        "colab_type": "code",
        "colab": {}
      },
      "source": [
        "#OOPR-Assgn-10\n",
        "\n",
        "class CallDetail:\n",
        "    def __init__(self,phoneno,called_no,duration,call_type):\n",
        "        self.__phoneno=phoneno\n",
        "        self.__called_no=called_no\n",
        "        self.__duration= duration\n",
        "        self.__call_type=call_type\n",
        "class Util:\n",
        "    def __init__(self):\n",
        "        self.list_of_call_objects=None\n",
        "\n",
        "    def parse_customer(self,list_of_call_string):\n",
        "        self.list_of_call_objects=[]\n",
        "        for i in  list_of_call_string:\n",
        "            phoneno,called_no,duration,call_type=i.split(\",\")\n",
        "            \n",
        "            self.list_of_call_objects.append(CallDetail(phoneno,called_no,duration,call_type))\n",
        "        \n",
        "            \n",
        "        \n",
        "call='9990000001,9330000001,23,STD'\n",
        "call2='9990000001,9330000002,54,Local'\n",
        "call3='9990000001,9330000003,6,ISD'\n",
        "\n",
        "list_of_call_string=[call,call2,call3]\n",
        "Util().parse_customer(list_of_call_string)"
      ],
      "execution_count": null,
      "outputs": []
    },
    {
      "cell_type": "markdown",
      "metadata": {
        "id": "KfjtSOfx_miT",
        "colab_type": "text"
      },
      "source": [
        " DAY 4 INFYTQ ASSIGNMENT"
      ]
    },
    {
      "cell_type": "markdown",
      "metadata": {
        "id": "GE5GQsD8PoCy",
        "colab_type": "text"
      },
      "source": [
        " Instructions\n",
        "Jon Snow went for a walk in a dragon city. There are many dragons in the city and each dragon has an English alphabet on it. While Jon Snow was walking, he noticed that all dragons with vowels on it are not in good state. He decided to take care of them. Now, help him in counting such dragons in that city.\n",
        " \n",
        "Note : The following letters are vowels: 'A', 'E', 'I', 'O', 'U' ,'a','e','i','o' and 'u'.\n",
        "Input:\n",
        "The first line consists of an integer T denoting the number of test cases.\n",
        "Each test case consists of only one string, each character of string denoting the alphabet (may be lowercase or uppercase) on a dragon in the dragon city.\n",
        "Output:\n",
        "For each test case, print the count in a new line."
      ]
    },
    {
      "cell_type": "code",
      "metadata": {
        "id": "s6pD5_DV_ePW",
        "colab_type": "code",
        "colab": {}
      },
      "source": [
        "Testcases=int(input())\n",
        "count=0\n",
        "i=1\n",
        "str=['a','e','i','o','u']\n",
        "while (i<(Testcases+1)):\n",
        "    Dragoninput=input()\n",
        " \n",
        "    for j in Dragoninput.lower():\n",
        "        if (j in str):\n",
        "            count=count+1\n",
        "    print(\"{} Dragons are not in good state in testcase{}\".format(count,i) )\n",
        "    count=0\n",
        "    i+=1"
      ],
      "execution_count": null,
      "outputs": []
    },
    {
      "cell_type": "markdown",
      "metadata": {
        "id": "eyc17SkH-ddC",
        "colab_type": "text"
      },
      "source": [
        ""
      ]
    },
    {
      "cell_type": "code",
      "metadata": {
        "id": "xn2gJXrI-mJ0",
        "colab_type": "code",
        "colab": {}
      },
      "source": [
        "from abc import ABCMeta,abstractmethod\n",
        "\n",
        "class Customer(metaclass=ABCMeta):\n",
        "    def __init__(self,customer_name):\n",
        "        self.__customer_name=customer_name\n",
        "        self.bill_amount=None\n",
        "        self.bill_id=None \n",
        "    \n",
        "    def get_customer_name(self):\n",
        "        return self.__customer_name\n",
        "        \n",
        "    @abstractmethod\n",
        "    def calculate_bill_amount(self):\n",
        "        pass\n",
        "    \n",
        "class OccasionalCustomer(Customer):\n",
        "    __counter=1000\n",
        "    def __init__(self,customer_name,distance_in_kms):\n",
        "        super().__init__(customer_name)\n",
        "        OccasionalCustomer.__counter+=1\n",
        "        self.bill_id=\"O\"+str(OccasionalCustomer.__counter)\n",
        "        self.__distance_in_kms=distance_in_kms\n",
        "        \n",
        "    def get_distance_in_kms(self):\n",
        "        return self.__distance_in_kms\n",
        "        \n",
        "    def validate_distance_in_kms(self):\n",
        "        if self.__distance_in_kms>=1 and self.__distance_in_kms<=5:\n",
        "            return True \n",
        "        return False\n",
        "    \n",
        "    def calculate_bill_amount(self):\n",
        "        if self.validate_distance_in_kms():\n",
        "            bill_amount=50\n",
        "            if self.__distance_in_kms<=2:\n",
        "                bill_amount+=self.__distance_in_kms*5 \n",
        "            elif self.__distance_in_kms<=5 and self.__distance_in_kms>2:\n",
        "                bill_amount+=(self.__distance_in_kms)*7.5 \n",
        "            self.bill_amount=bill_amount\n",
        "            return self.bill_amount\n",
        "        else:\n",
        "            self.bill_amount=-1 \n",
        "            return self.bill_amount\n",
        "        \n",
        "class RegularCustomer(Customer):\n",
        "    __counter=100\n",
        "    def __init__(self,customer_name,no_of_tiffin):\n",
        "        super().__init__(customer_name)\n",
        "        RegularCustomer.__counter+=1 \n",
        "        self.bill_id=\"R\"+str(RegularCustomer.__counter)\n",
        "        self.__no_of_tiffin=no_of_tiffin\n",
        "        \n",
        "    def get_no_of_tiffin(self):\n",
        "        return self.__no_of_tiffin\n",
        "        \n",
        "    def validate_no_of_tiffin(self):\n",
        "        if self.__no_of_tiffin>=1 and self.__no_of_tiffin<=7:\n",
        "            return True\n",
        "        return False\n",
        "    \n",
        "    def calculate_bill_amount(self):\n",
        "        if self.validate_no_of_tiffin():\n",
        "            self.bill_amount=50*7*self.__no_of_tiffin\n",
        "            return self.bill_amount\n",
        "        else:\n",
        "            self.bill_amount=-1\n",
        "            return self.bill_amount"
      ],
      "execution_count": null,
      "outputs": []
    }
  ]
}